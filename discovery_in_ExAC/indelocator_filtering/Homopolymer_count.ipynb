{
 "cells": [
  {
   "cell_type": "code",
   "execution_count": 1,
   "metadata": {},
   "outputs": [],
   "source": [
    "import pandas as pd\n",
    "import numpy as np\n",
    "from scipy import stats\n",
    "import re\n",
    "import matplotlib.pyplot as plt\n",
    "import statsmodels.stats.multitest as multi"
   ]
  },
  {
   "cell_type": "code",
   "execution_count": 2,
   "metadata": {},
   "outputs": [],
   "source": [
    "#function for identifying length of homopolymer runs\n",
    "def homopolymer_len(context):\n",
    "    run=1\n",
    "    last_base={\"A\":0,\"C\":0,\"G\":0,\"T\":0}\n",
    "    prev_base=context[0]\n",
    "    \n",
    "    for i, base in enumerate(context):\n",
    "        if prev_base in base and i!=0:\n",
    "            run += 1\n",
    "            last_base[base] = max(run, last_base[base])\n",
    "        else:\n",
    "            run=1\n",
    "        prev_base=base\n",
    "\n",
    "    longest=max(last_base.values())\n",
    "\n",
    "    return longest"
   ]
  },
  {
   "cell_type": "code",
   "execution_count": 10,
   "metadata": {
    "collapsed": true
   },
   "outputs": [
    {
     "name": "stdout",
     "output_type": "stream",
     "text": [
      "5046\n"
     ]
    },
    {
     "data": {
      "image/png": "[encoded data removed]",
      "text/plain": [
       "<Figure size 432x288 with 1 Axes>"
      ]
     },
     "metadata": {
      "needs_background": "light"
     },
     "output_type": "display_data"
    }
   ],
   "source": [
    "indel_file=\"indelocator_file.txt\"\n",
    "output_filename=\"homopolymer_filtered.txt\"\n",
    "\n",
    "maf=pd.read_csv(indel_file,sep='\\t',dtype=object,encoding = \"ISO-8859-1\")\n",
    "\n",
    "maf['ref_context']=maf['ref_context'].str.upper()\n",
    "maf['homopolymer_len']=0\n",
    "\n",
    "for idx,row in maf.iterrows():\n",
    "    maf.loc[idx,'homopolymer_len']=homopolymer_len(row['ref_context'])\n",
    "\n",
    "plt.gcf().clear()\n",
    "plt.hist(maf['homopolymer_len'],bins=100)\n",
    "plt.savefig(\"indel_muts/homopolymer_length_plot\")\n",
    "\n",
    "#filter out mutations found in homopolymer runs greater than 6 due to indelocator inaccuracies\n",
    "maf=maf[maf['homopolymer_len']<=5]\n",
    "maf.to_csv(output_filename,sep='\\t',index=False)"
   ]
  },
  {
   "cell_type": "markdown",
   "metadata": {},
   "source": [
    "Eliminate sites with depth 3X higher than expected from SNVs (or outside poisson expectation), similar to the Strelka implementation"
   ]
  },
  {
   "cell_type": "code",
   "execution_count": 12,
   "metadata": {
    "collapsed": true
   },
   "outputs": [
    {
     "name": "stdout",
     "output_type": "stream",
     "text": [
      "1292\n",
      "1292\n",
      "4459\n",
      "2158\n"
     ]
    }
   ],
   "source": [
    "indel_file=\"indelocator_file.txt\"\n",
    "snv_file=\"snvs.txt\"\n",
    "output=\"poisson_depth_filt.txt\"\n",
    "\n",
    "maf=pd.read_csv(indel_file,sep='\\t')\n",
    "print(len(maf['Tumor_Sample_Barcode'].unique()))\n",
    "depth_maf=pd.read_csv(snv_file,sep='\\t')\n",
    "\n",
    "depth_maf=depth_maf[~((depth_maf['t_alt_count'].str.contains(\"\\|\",na=False))|\n",
    "                     (depth_maf['t_ref_count'].str.contains(\"\\|\",na=False)))]\n",
    "\n",
    "maf['depth']=pd.to_numeric(maf['t_alt_count'])+pd.to_numeric(maf['t_ref_count'])\n",
    "depth_maf['depth']=pd.to_numeric(depth_maf['t_alt_count'])+pd.to_numeric(depth_maf['t_ref_count'])\n",
    "\n",
    "median_snv_depths=depth_maf.groupby(['Tumor_Sample_Barcode'])['depth'].median().reset_index(name='median_depth')\n",
    "\n",
    "maf=maf.merge(median_snv_depths,on='Tumor_Sample_Barcode')\n",
    "print(len(maf['Tumor_Sample_Barcode'].unique()))\n",
    "\n",
    "maf['depth_poisson']=stats.poisson.cdf(maf['depth'],maf['median_depth'])\n",
    "\n",
    "#filter out indels found at a depth greater than poisson expectation set by the SNVs\n",
    "maf=maf[maf['depth_poisson']<0.99]\n",
    "\n",
    "maf.to_csv(output,sep='\\t',index=False)\n"
   ]
  },
  {
   "cell_type": "markdown",
   "metadata": {},
   "source": [
    "Filter out indels longer than 10 base pairs to prevent the inclusion inaccurately counted of split reads"
   ]
  },
  {
   "cell_type": "code",
   "execution_count": 13,
   "metadata": {
    "collapsed": true
   },
   "outputs": [
    {
     "name": "stderr",
     "output_type": "stream",
     "text": [
      "/Users/mleventh/anaconda3/lib/python3.6/site-packages/IPython/core/interactiveshell.py:3020: DtypeWarning: Columns (52,72,80,83,84,147,148,156,157,169,170,171,172,173,174,188,312) have mixed types. Specify dtype option on import or set low_memory=False.\n",
      "  interactivity=interactivity, compiler=compiler, result=result)\n"
     ]
    },
    {
     "name": "stdout",
     "output_type": "stream",
     "text": [
      "136\n"
     ]
    },
    {
     "data": {
      "image/png": "[encoded data removed]",
      "text/plain": [
       "<Figure size 432x288 with 1 Axes>"
      ]
     },
     "metadata": {
      "needs_background": "light"
     },
     "output_type": "display_data"
    }
   ],
   "source": [
    "indel_file=\"indel_muts/poisson_depth_filt_noAltLim.txt\"\n",
    "output_file=\"indel_muts/short_indels_noAltLim.txt\"\n",
    "\n",
    "indel_maf=pd.read_csv(indel_file,sep='\\t')\n",
    "\n",
    "indel_maf['alt_len']=indel_maf['Tumor_Seq_Allele2'].str.len()\n",
    "indel_maf['ref_len']=indel_maf['Reference_Allele'].str.len()\n",
    "\n",
    "combined_counts=pd.concat([indel_maf['alt_len'],indel_maf['ref_len']])\n",
    "\n",
    "filtered_count=indel_maf.groupby(['Genome_Change']).size().reset_index(name='site_counts')\n",
    "\n",
    "plt.gcf().clear()\n",
    "plt.hist(combined_counts,bins=100,log=True)\n",
    "\n",
    "indel_maf=indel_maf[(indel_maf['alt_len']<=10)&(indel_maf['ref_len']<=10)]\n",
    "\n",
    "\n",
    "indel_maf.to_csv(output_file,sep='\\t',index=False)"
   ]
  },
  {
   "cell_type": "code",
   "execution_count": null,
   "metadata": {},
   "outputs": [],
   "source": []
  }
 ],
 "metadata": {
  "kernelspec": {
   "display_name": "Python 3",
   "language": "python",
   "name": "python3"
  },
  "language_info": {
   "codemirror_mode": {
    "name": "ipython",
    "version": 3
   },
   "file_extension": ".py",
   "mimetype": "text/x-python",
   "name": "python",
   "nbconvert_exporter": "python",
   "pygments_lexer": "ipython3",
   "version": "3.6.4"
  }
 },
 "nbformat": 4,
 "nbformat_minor": 2
}
